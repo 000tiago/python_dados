{
  "nbformat": 4,
  "nbformat_minor": 0,
  "metadata": {
    "colab": {
      "provenance": []
    },
    "kernelspec": {
      "name": "python3",
      "display_name": "Python 3"
    },
    "language_info": {
      "name": "python"
    }
  },
  "cells": [
    {
      "cell_type": "code",
      "execution_count": 8,
      "metadata": {
        "colab": {
          "base_uri": "https://localhost:8080/"
        },
        "id": "_nI8xusKfYXg",
        "outputId": "b0434b34-137d-4931-b38b-a9adb65cff44"
      },
      "outputs": [
        {
          "output_type": "stream",
          "name": "stdout",
          "text": [
            "Digite o primeiro número: 5\n",
            "Digite o segundo número: 4\n",
            "\n",
            "Escolha uma operação:\n",
            "1. Adição\n",
            "2. Subtração\n",
            "3. Multiplicação\n",
            "4. Divisão\n",
            "5. Sair\n",
            "Digite o número (1, 2, 3, 4 ou 5 para sair) da operação desejada: 2\n",
            "Subtração: 1.0\n",
            "Digite o primeiro número: 1\n",
            "Digite o segundo número: 2\n",
            "\n",
            "Escolha uma operação:\n",
            "1. Adição\n",
            "2. Subtração\n",
            "3. Multiplicação\n",
            "4. Divisão\n",
            "5. Sair\n",
            "Digite o número (1, 2, 3, 4 ou 5 para sair) da operação desejada: 5\n",
            "Saindo do programa...\n"
          ]
        }
      ],
      "source": [
        "while True:\n",
        "    num1 = float(input(\"Digite o primeiro número: \"))\n",
        "    num2 = float(input(\"Digite o segundo número: \"))\n",
        "\n",
        "    print(\"\\nEscolha uma operação:\")\n",
        "    print(\"1. Adição\")\n",
        "    print(\"2. Subtração\")\n",
        "    print(\"3. Multiplicação\")\n",
        "    print(\"4. Divisão\")\n",
        "    print(\"5. Sair\")\n",
        "\n",
        "    escolha = input(\"Digite o número (1, 2, 3, 4 ou 5 para sair) da operação desejada: \")\n",
        "\n",
        "    if escolha == '1':\n",
        "        print(f\"Soma: {num1 + num2}\")\n",
        "    elif escolha == '2':\n",
        "        print(f\"Subtração: {num1 - num2}\")\n",
        "    elif escolha == '3':\n",
        "        print(f\"Multiplicação: {num1 * num2}\")\n",
        "    elif escolha == '4':\n",
        "        if num2 != 0:\n",
        "            print(f\"Divisão: {num1 / num2}\")\n",
        "        else:\n",
        "            print(\"Erro: divisão por zero não permitida.\")\n",
        "    elif escolha == '5':\n",
        "        print(\"Saindo do programa...\")\n",
        "        break\n",
        "    else:\n",
        "        print(\"Opção inválida. Tente novamente.\")\n"
      ]
    }
  ]
}